{
 "cells": [
  {
   "cell_type": "code",
   "execution_count": 3,
   "id": "f6ff86d0",
   "metadata": {},
   "outputs": [],
   "source": [
    "# import module\n",
    "from geopy.geocoders import Nominatim\n",
    "\n",
    "# initialize Nominatim API\n",
    "geolocator = Nominatim(user_agent=\"geoapiExercises\")"
   ]
  },
  {
   "cell_type": "code",
   "execution_count": 24,
   "id": "34c4baa4",
   "metadata": {},
   "outputs": [
    {
     "data": {
      "text/plain": [
       "'Ohio'"
      ]
     },
     "execution_count": 24,
     "metadata": {},
     "output_type": "execute_result"
    }
   ],
   "source": [
    "# Latitude & Longitude input\n",
    "Latitude = \"41.1304722\"\n",
    "Longitude = \"-80.6195833\"\n",
    "#getting the location pointed by latitude and longitude \n",
    "location = geolocator.reverse(Latitude+\",\"+Longitude) #this gives the full address of the airport but we only need state name\n",
    " \n",
    "#getting state name only\n",
    "address = location.raw['address']\n",
    "state = address.get('state', '')\n",
    "\n",
    "state\n"
   ]
  },
  {
   "cell_type": "code",
   "execution_count": null,
   "id": "6358e193",
   "metadata": {},
   "outputs": [],
   "source": []
  }
 ],
 "metadata": {
  "kernelspec": {
   "display_name": "Python 3 (ipykernel)",
   "language": "python",
   "name": "python3"
  },
  "language_info": {
   "codemirror_mode": {
    "name": "ipython",
    "version": 3
   },
   "file_extension": ".py",
   "mimetype": "text/x-python",
   "name": "python",
   "nbconvert_exporter": "python",
   "pygments_lexer": "ipython3",
   "version": "3.9.12"
  }
 },
 "nbformat": 4,
 "nbformat_minor": 5
}
